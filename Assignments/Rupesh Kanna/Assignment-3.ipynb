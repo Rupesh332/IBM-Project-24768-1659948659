{
 "cells": [
  {
   "cell_type": "markdown",
   "id": "c067ac4b",
   "metadata": {},
   "source": [
    "# Download and Unzip Dataset"
   ]
  },
  {
   "cell_type": "markdown",
   "id": "8c890518",
   "metadata": {},
   "source": [
    "# Image Augmentation"
   ]
  },
  {
   "cell_type": "code",
   "execution_count": 1,
   "id": "5d57c0f3",
   "metadata": {},
   "outputs": [],
   "source": [
    "from tensorflow.keras.preprocessing.image import ImageDataGenerator"
   ]
  },
  {
   "cell_type": "code",
   "execution_count": 2,
   "id": "8954541b",
   "metadata": {},
   "outputs": [],
   "source": [
    "train_data=ImageDataGenerator(rescale=1./255,zoom_range=0.2,horizontal_flip=True)"
   ]
  },
  {
   "cell_type": "code",
   "execution_count": 10,
   "id": "eb82ecbd",
   "metadata": {},
   "outputs": [],
   "source": [
    "test_data=ImageDataGenerator(rescale=1./255,validation_split=0.5)"
   ]
  },
  {
   "cell_type": "code",
   "execution_count": 11,
   "id": "23028aef",
   "metadata": {},
   "outputs": [
    {
     "name": "stdout",
     "output_type": "stream",
     "text": [
      "Found 4317 images belonging to 5 classes.\n"
     ]
    }
   ],
   "source": [
    "xtrain=train_data.flow_from_directory('E:/Projects/Jyupter/Dataset/Flowers-Dataset/flowers',\n",
    "                                      target_size=(64,64),\n",
    "                                      class_mode='categorical',\n",
    "                                      batch_size=100)"
   ]
  },
  {
   "cell_type": "code",
   "execution_count": 12,
   "id": "943e22a7",
   "metadata": {},
   "outputs": [
    {
     "name": "stdout",
     "output_type": "stream",
     "text": [
      "Found 4317 images belonging to 5 classes.\n"
     ]
    }
   ],
   "source": [
    "xtest=test_data.flow_from_directory('E:/Projects/Jyupter/Dataset/Flowers-Dataset/flowers',\n",
    "                                         target_size=(64,64),\n",
    "                                         class_mode='categorical',\n",
    "                                         batch_size=100)"
   ]
  },
  {
   "cell_type": "markdown",
   "id": "aa6bc3a5",
   "metadata": {},
   "source": [
    "# CNN Model"
   ]
  },
  {
   "cell_type": "code",
   "execution_count": 13,
   "id": "5d5c8c4e",
   "metadata": {},
   "outputs": [],
   "source": [
    "from tensorflow.keras.models import Sequential\n",
    "from tensorflow.keras.layers import Convolution2D,MaxPooling2D,Flatten,Dense"
   ]
  },
  {
   "cell_type": "markdown",
   "id": "a244200f",
   "metadata": {},
   "source": [
    "# Layers "
   ]
  },
  {
   "cell_type": "code",
   "execution_count": 14,
   "id": "2d50f75b",
   "metadata": {},
   "outputs": [],
   "source": [
    "model=Sequential()\n",
    "model.add(Convolution2D(32,(3,3),activation='relu',input_shape=(64,64,3)))\n",
    "model.add(MaxPooling2D(pool_size=(2,2)))\n",
    "model.add(Flatten())\n",
    "model.add(Dense(300,activation='relu'))\n",
    "model.add(Dense(150,activation='relu'))\n",
    "model.add(Dense(5,activation='softmax'))"
   ]
  },
  {
   "cell_type": "markdown",
   "id": "ebef818d",
   "metadata": {},
   "source": [
    "# Compile"
   ]
  },
  {
   "cell_type": "code",
   "execution_count": 15,
   "id": "70211145",
   "metadata": {},
   "outputs": [],
   "source": [
    "model.compile(optimizer='adam',loss='categorical_crossentropy',metrics=['accuracy'])"
   ]
  },
  {
   "cell_type": "markdown",
   "id": "ded54586",
   "metadata": {},
   "source": [
    "# Fit "
   ]
  },
  {
   "cell_type": "code",
   "execution_count": 16,
   "id": "647983da",
   "metadata": {},
   "outputs": [
    {
     "name": "stderr",
     "output_type": "stream",
     "text": [
      "C:\\Users\\Admin\\AppData\\Local\\Temp/ipykernel_2116/1795009319.py:1: UserWarning: `Model.fit_generator` is deprecated and will be removed in a future version. Please use `Model.fit`, which supports generators.\n",
      "  model.fit_generator(xtrain,steps_per_epoch=len(xtrain),\n"
     ]
    },
    {
     "name": "stdout",
     "output_type": "stream",
     "text": [
      "Epoch 1/30\n",
      "44/44 [==============================] - 136s 3s/step - loss: 1.5706 - accuracy: 0.3908 - val_loss: 1.1946 - val_accuracy: 0.4902\n",
      "Epoch 2/30\n",
      "44/44 [==============================] - 25s 560ms/step - loss: 1.1227 - accuracy: 0.5444 - val_loss: 1.1297 - val_accuracy: 0.5432\n",
      "Epoch 3/30\n",
      "44/44 [==============================] - 25s 577ms/step - loss: 1.0379 - accuracy: 0.5912 - val_loss: 1.1117 - val_accuracy: 0.5587\n",
      "Epoch 4/30\n",
      "44/44 [==============================] - 26s 590ms/step - loss: 0.9579 - accuracy: 0.6254 - val_loss: 0.9623 - val_accuracy: 0.6354\n",
      "Epoch 5/30\n",
      "44/44 [==============================] - 27s 607ms/step - loss: 0.9047 - accuracy: 0.6463 - val_loss: 1.0050 - val_accuracy: 0.6252\n",
      "Epoch 6/30\n",
      "44/44 [==============================] - 27s 607ms/step - loss: 0.8506 - accuracy: 0.6725 - val_loss: 0.8747 - val_accuracy: 0.6639\n",
      "Epoch 7/30\n",
      "44/44 [==============================] - 27s 609ms/step - loss: 0.8144 - accuracy: 0.6884 - val_loss: 0.7780 - val_accuracy: 0.7033\n",
      "Epoch 8/30\n",
      "44/44 [==============================] - 27s 613ms/step - loss: 0.7688 - accuracy: 0.7079 - val_loss: 0.7483 - val_accuracy: 0.7225\n",
      "Epoch 9/30\n",
      "44/44 [==============================] - 27s 614ms/step - loss: 0.7258 - accuracy: 0.7227 - val_loss: 0.7457 - val_accuracy: 0.7325\n",
      "Epoch 10/30\n",
      "44/44 [==============================] - 27s 613ms/step - loss: 0.7249 - accuracy: 0.7209 - val_loss: 0.7289 - val_accuracy: 0.7262\n",
      "Epoch 11/30\n",
      "44/44 [==============================] - 27s 611ms/step - loss: 0.6773 - accuracy: 0.7338 - val_loss: 0.7574 - val_accuracy: 0.7169\n",
      "Epoch 12/30\n",
      "44/44 [==============================] - 27s 627ms/step - loss: 0.6529 - accuracy: 0.7575 - val_loss: 0.5380 - val_accuracy: 0.8003\n",
      "Epoch 13/30\n",
      "44/44 [==============================] - 27s 618ms/step - loss: 0.6266 - accuracy: 0.7640 - val_loss: 0.7529 - val_accuracy: 0.7093\n",
      "Epoch 14/30\n",
      "44/44 [==============================] - 27s 618ms/step - loss: 0.6072 - accuracy: 0.7707 - val_loss: 0.6587 - val_accuracy: 0.7637\n",
      "Epoch 15/30\n",
      "44/44 [==============================] - 27s 626ms/step - loss: 0.5506 - accuracy: 0.7957 - val_loss: 0.5702 - val_accuracy: 0.7827\n",
      "Epoch 16/30\n",
      "44/44 [==============================] - 28s 632ms/step - loss: 0.5526 - accuracy: 0.7936 - val_loss: 0.5021 - val_accuracy: 0.8135\n",
      "Epoch 17/30\n",
      "44/44 [==============================] - 27s 615ms/step - loss: 0.5274 - accuracy: 0.8036 - val_loss: 0.4721 - val_accuracy: 0.8286\n",
      "Epoch 18/30\n",
      "44/44 [==============================] - 27s 618ms/step - loss: 0.4918 - accuracy: 0.8196 - val_loss: 0.4818 - val_accuracy: 0.8149\n",
      "Epoch 19/30\n",
      "44/44 [==============================] - 27s 616ms/step - loss: 0.4768 - accuracy: 0.8251 - val_loss: 0.4358 - val_accuracy: 0.8404\n",
      "Epoch 20/30\n",
      "44/44 [==============================] - 27s 621ms/step - loss: 0.4939 - accuracy: 0.8128 - val_loss: 0.3818 - val_accuracy: 0.8608\n",
      "Epoch 21/30\n",
      "44/44 [==============================] - 27s 620ms/step - loss: 0.4357 - accuracy: 0.8358 - val_loss: 0.3702 - val_accuracy: 0.8668\n",
      "Epoch 22/30\n",
      "44/44 [==============================] - 27s 618ms/step - loss: 0.4028 - accuracy: 0.8562 - val_loss: 0.4327 - val_accuracy: 0.8504\n",
      "Epoch 23/30\n",
      "44/44 [==============================] - 27s 624ms/step - loss: 0.3702 - accuracy: 0.8624 - val_loss: 0.2943 - val_accuracy: 0.9013\n",
      "Epoch 24/30\n",
      "44/44 [==============================] - 27s 625ms/step - loss: 0.3799 - accuracy: 0.8619 - val_loss: 0.2955 - val_accuracy: 0.9020\n",
      "Epoch 25/30\n",
      "44/44 [==============================] - 27s 624ms/step - loss: 0.3443 - accuracy: 0.8754 - val_loss: 0.2614 - val_accuracy: 0.9020\n",
      "Epoch 26/30\n",
      "44/44 [==============================] - 27s 624ms/step - loss: 0.3583 - accuracy: 0.8731 - val_loss: 0.3481 - val_accuracy: 0.8807\n",
      "Epoch 27/30\n",
      "44/44 [==============================] - 27s 628ms/step - loss: 0.3300 - accuracy: 0.8828 - val_loss: 0.2852 - val_accuracy: 0.9041\n",
      "Epoch 28/30\n",
      "44/44 [==============================] - 27s 623ms/step - loss: 0.2748 - accuracy: 0.9057 - val_loss: 0.2606 - val_accuracy: 0.9064\n",
      "Epoch 29/30\n",
      "44/44 [==============================] - 27s 628ms/step - loss: 0.2600 - accuracy: 0.9094 - val_loss: 0.2985 - val_accuracy: 0.8934\n",
      "Epoch 30/30\n",
      "44/44 [==============================] - 28s 629ms/step - loss: 0.2479 - accuracy: 0.9136 - val_loss: 0.2489 - val_accuracy: 0.9150\n"
     ]
    },
    {
     "data": {
      "text/plain": [
       "<keras.callbacks.History at 0x24598b6ed00>"
      ]
     },
     "execution_count": 16,
     "metadata": {},
     "output_type": "execute_result"
    }
   ],
   "source": [
    "model.fit_generator(xtrain,steps_per_epoch=len(xtrain),\n",
    "          epochs=30,validation_data=xtest,validation_steps=len(xtest))"
   ]
  },
  {
   "cell_type": "markdown",
   "id": "e69527bd",
   "metadata": {},
   "source": [
    "# Save Model"
   ]
  },
  {
   "cell_type": "code",
   "execution_count": 17,
   "id": "76a1bae9",
   "metadata": {},
   "outputs": [],
   "source": [
    "model.save('flowers.h5')"
   ]
  },
  {
   "cell_type": "markdown",
   "id": "1cbb8fd9",
   "metadata": {},
   "source": [
    "# Test Model"
   ]
  },
  {
   "cell_type": "code",
   "execution_count": 18,
   "id": "1a33ba90",
   "metadata": {},
   "outputs": [],
   "source": [
    "from tensorflow.keras.preprocessing import image\n",
    "import numpy as np"
   ]
  },
  {
   "cell_type": "code",
   "execution_count": 30,
   "id": "c5f5722c",
   "metadata": {},
   "outputs": [
    {
     "name": "stdout",
     "output_type": "stream",
     "text": [
      "1/1 [==============================] - 0s 38ms/step\n",
      "0\n"
     ]
    },
    {
     "data": {
      "text/plain": [
       "'daisy'"
      ]
     },
     "execution_count": 30,
     "metadata": {},
     "output_type": "execute_result"
    }
   ],
   "source": [
    "# Test1\n",
    "fl_img='E:/Projects/Jyupter/Dataset/Flowers-Dataset/flowers/daisy/134409839_71069a95d1_m.jpg' \n",
    "img=image.load_img(fl_img,target_size=(64,64))\n",
    "x=image.img_to_array(img)\n",
    "x=np.expand_dims(x,axis=0)\n",
    "pred=np.argmax(model.predict(x))\n",
    "print(pred)\n",
    "op=['daisy','dandelion','rose','sunflower','tulip']\n",
    "op[pred]"
   ]
  },
  {
   "cell_type": "code",
   "execution_count": 31,
   "id": "811f99c3",
   "metadata": {},
   "outputs": [
    {
     "name": "stdout",
     "output_type": "stream",
     "text": [
      "1/1 [==============================] - 0s 16ms/step\n",
      "3\n"
     ]
    },
    {
     "data": {
      "text/plain": [
       "'sunflower'"
      ]
     },
     "execution_count": 31,
     "metadata": {},
     "output_type": "execute_result"
    }
   ],
   "source": [
    "fl_img='E:/Projects/Jyupter/Dataset/Flowers-Dataset/flowers/sunflower/44079668_34dfee3da1_n.jpg' \n",
    "img=image.load_img(fl_img,target_size=(64,64))\n",
    "x=image.img_to_array(img)\n",
    "x=np.expand_dims(x,axis=0)\n",
    "pred=np.argmax(model.predict(x))\n",
    "print(pred)\n",
    "op=['daisy','dandelion','rose','sunflower','tulip']\n",
    "op[pred]"
   ]
  },
  {
   "cell_type": "code",
   "execution_count": 32,
   "id": "45a598d9",
   "metadata": {},
   "outputs": [
    {
     "name": "stdout",
     "output_type": "stream",
     "text": [
      "1/1 [==============================] - 0s 30ms/step\n",
      "4\n"
     ]
    },
    {
     "data": {
      "text/plain": [
       "'tulip'"
      ]
     },
     "execution_count": 32,
     "metadata": {},
     "output_type": "execute_result"
    }
   ],
   "source": [
    "fl_img='E:/Projects/Jyupter/Dataset/Flowers-Dataset/flowers/tulip/132538273_335240fe5b_n.jpg' \n",
    "img=image.load_img(fl_img,target_size=(64,64))\n",
    "x=image.img_to_array(img)\n",
    "x=np.expand_dims(x,axis=0)\n",
    "pred=np.argmax(model.predict(x))\n",
    "print(pred)\n",
    "op=['daisy','dandelion','rose','sunflower','tulip']\n",
    "op[pred]"
   ]
  },
  {
   "cell_type": "code",
   "execution_count": null,
   "id": "baec6177",
   "metadata": {},
   "outputs": [],
   "source": []
  }
 ],
 "metadata": {
  "kernelspec": {
   "display_name": "Python 3 (ipykernel)",
   "language": "python",
   "name": "python3"
  },
  "language_info": {
   "codemirror_mode": {
    "name": "ipython",
    "version": 3
   },
   "file_extension": ".py",
   "mimetype": "text/x-python",
   "name": "python",
   "nbconvert_exporter": "python",
   "pygments_lexer": "ipython3",
   "version": "3.9.7"
  }
 },
 "nbformat": 4,
 "nbformat_minor": 5
}
